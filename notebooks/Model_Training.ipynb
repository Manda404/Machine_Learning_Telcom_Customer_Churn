{
 "cells": [
  {
   "cell_type": "code",
   "execution_count": null,
   "metadata": {},
   "outputs": [],
   "source": [
    "def split_dataset(input_path=\"data/dataset.csv\", train_path=\"data/train.csv\", test_path=\"data/test.csv\"):\n",
    "    df = pd.read_csv(input_path)\n",
    "    \n",
    "    df = pd.read_csv(input_path)\n",
    "    df[\"date\"] = pd.to_datetime(df[\"date\"])\n",
    "    \n",
    "    last_year = df[\"date\"].max().year\n",
    "    train_df = df[df[\"date\"].dt.year < last_year]\n",
    "    test_df = df[df[\"date\"].dt.year == last_year]\n",
    "    \n",
    "    train_df.to_csv(train_path, index=False)\n",
    "    test_df.to_csv(test_path, index=False)\n",
    "    \n",
    "    print(\"Données divisées : train (4 ans) et test (1 an).\")"
   ]
  }
 ],
 "metadata": {
  "kernelspec": {
   "display_name": "3.11.6",
   "language": "python",
   "name": "python3"
  },
  "language_info": {
   "codemirror_mode": {
    "name": "ipython",
    "version": 3
   },
   "file_extension": ".py",
   "mimetype": "text/x-python",
   "name": "python",
   "nbconvert_exporter": "python",
   "pygments_lexer": "ipython3",
   "version": "3.11.6"
  }
 },
 "nbformat": 4,
 "nbformat_minor": 2
}
